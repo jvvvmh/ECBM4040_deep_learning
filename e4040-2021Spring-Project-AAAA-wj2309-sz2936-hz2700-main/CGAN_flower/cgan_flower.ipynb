{
 "cells": [
  {
   "cell_type": "markdown",
   "metadata": {},
   "source": [
    "# Generate Flowers with Text Description"
   ]
  },
  {
   "cell_type": "markdown",
   "metadata": {},
   "source": [
    "please download source data at kaggle:\n",
    "    https://www.kaggle.com/c/datalab-cup3-reverse-image-caption-2020/data"
   ]
  },
  {
   "cell_type": "code",
   "execution_count": 2,
   "metadata": {},
   "outputs": [],
   "source": [
    "from __future__ import absolute_import, division, print_function, unicode_literals\n",
    "import tensorflow as tf\n",
    "from tensorflow.keras import layers\n",
    "from tensorflow.keras.layers import Dense, Flatten, Conv2D, MaxPooling2D, RepeatVector, BatchNormalization, LeakyReLU, Conv2DTranspose, Dropout, UpSampling2D\n",
    "import os\n",
    "from tensorflow.keras.activations import sigmoid, softmax\n",
    "import string\n",
    "import matplotlib.pyplot as plt\n",
    "import numpy as np\n",
    "import pandas as pd\n",
    "import PIL\n",
    "import random\n",
    "import time\n",
    "from pathlib import Path\n",
    "\n",
    "import re\n",
    "from IPython import display\n",
    "from zipfile import ZipFile\n",
    "\n",
    "# import seaborn as sns\n",
    "# sns.set()\n",
    "import gensim\n",
    "import gensim.downloader"
   ]
  },
  {
   "cell_type": "code",
   "execution_count": 3,
   "metadata": {},
   "outputs": [],
   "source": [
    "# download pretrained word vector of 100-dimension\n",
    "wv = gensim.downloader.load('glove-wiki-gigaword-100')"
   ]
  },
  {
   "cell_type": "markdown",
   "metadata": {},
   "source": [
    "## Preprocess Text\n",
    "\n",
    "Notice: I added comments if I used part of preprocessing codes offered by the kaggle competition organizer. https://nthu-datalab.github.io/ml/competitions/Comp_03_Reverse-Image-Caption/03_Reverse-Image-Caption.html"
   ]
  },
  {
   "cell_type": "code",
   "execution_count": 8,
   "metadata": {},
   "outputs": [
    {
     "name": "stdout",
     "output_type": "stream",
     "text": [
      "there are 5427 vocabularies in total\n",
      "Word to id mapping, for example: flower -> 1\n",
      "Id to word mapping, for example: 1 -> flower\n",
      "Tokens: <PAD>: 5427; <RARE>: 5428\n"
     ]
    }
   ],
   "source": [
    "# use: kaggle organizer instruction\n",
    "dictionary_path = './dictionary'\n",
    "vocab = np.load(dictionary_path + '/vocab.npy')\n",
    "print('there are {} vocabularies in total'.format(len(vocab)))\n",
    "\n",
    "word2Id_dict = dict(np.load(dictionary_path + '/word2Id.npy'))\n",
    "id2word_dict = dict(np.load(dictionary_path + '/id2Word.npy'))\n",
    "print('Word to id mapping, for example: %s -> %s' % ('flower', word2Id_dict['flower']))\n",
    "print('Id to word mapping, for example: %s -> %s' % ('1', id2word_dict['1']))\n",
    "print('Tokens: <PAD>: %s; <RARE>: %s' % (word2Id_dict['<PAD>'], word2Id_dict['<RARE>']))"
   ]
  },
  {
   "cell_type": "code",
   "execution_count": 9,
   "metadata": {},
   "outputs": [],
   "source": [
    "# by jvmh\n",
    "emb_weight_mat = np.zeros((len(word2Id_dict), 100), dtype=np.float32)\n",
    "for i in range(len(word2Id_dict)):\n",
    "    if id2word_dict[str(i)] in wv:\n",
    "        emb_weight_mat[i, :] = wv[id2word_dict[str(i)]]"
   ]
  },
  {
   "cell_type": "code",
   "execution_count": 10,
   "metadata": {},
   "outputs": [
    {
     "name": "stdout",
     "output_type": "stream",
     "text": [
      "the flower shown has yellow anther red pistil and bright red petals.\n",
      "['9', '1', '82', '5', '11', '70', '20', '31', '3', '29', '20', '2', '5427', '5427', '5427', '5427', '5427', '5427', '5427', '5427']\n"
     ]
    }
   ],
   "source": [
    "# reference: kaggle organizer instruction\n",
    "def sent2IdList(line, MAX_SEQ_LENGTH=20):\n",
    "    MAX_SEQ_LIMIT = MAX_SEQ_LENGTH\n",
    "    padding = 0\n",
    "    \n",
    "    # data preprocessing, remove all puntuation in the texts\n",
    "    prep_line = re.sub('[%s]' % re.escape(string.punctuation), ' ', line.rstrip())\n",
    "    prep_line = prep_line.replace('-', ' ')\n",
    "    prep_line = prep_line.replace('.', '')\n",
    "    tokens = prep_line.split(' ')\n",
    "    tokens = [\n",
    "        tokens[i] for i in range(len(tokens))\n",
    "        if tokens[i] != ' ' and tokens[i] != ''\n",
    "    ]\n",
    "    l = len(tokens)\n",
    "    padding = MAX_SEQ_LIMIT - l # padding length\n",
    "    \n",
    "    # make sure length of each text is equal to MAX_SEQ_LENGTH, \n",
    "    # and replace the less common word with <RARE> token\n",
    "    for i in range(padding):\n",
    "        tokens.append('<PAD>')\n",
    "    line = [\n",
    "        word2Id_dict[tokens[k]]\n",
    "        if tokens[k] in word2Id_dict else word2Id_dict['<RARE>']\n",
    "        for k in range(len(tokens))\n",
    "    ]\n",
    "\n",
    "    return line\n",
    "\n",
    "text = \"the flower shown has yellow anther red pistil and bright red petals.\"\n",
    "print(text)\n",
    "print(sent2IdList(text))"
   ]
  },
  {
   "cell_type": "code",
   "execution_count": 11,
   "metadata": {},
   "outputs": [],
   "source": [
    "# by jvmh\n",
    "data_path = './dataset'\n",
    "# with ZipFile('dataset.zip', 'r') as zf:\n",
    "#     zf.extractall()\n",
    "df = pd.read_pickle(data_path + '/text2ImgData.pkl')"
   ]
  },
  {
   "cell_type": "code",
   "execution_count": 12,
   "metadata": {},
   "outputs": [
    {
     "name": "stdout",
     "output_type": "stream",
     "text": [
      "There are 7296 image in training data\n",
      "There are 74 image in test data\n"
     ]
    }
   ],
   "source": [
    "# by jvmh\n",
    "n_images_train = int(0.99 * len(df))\n",
    "n_images_test = len(df) - n_images_train\n",
    "print('There are %d image in training data' % (n_images_train))\n",
    "print('There are %d image in test data' % (n_images_test))"
   ]
  },
  {
   "cell_type": "code",
   "execution_count": 13,
   "metadata": {},
   "outputs": [
    {
     "data": {
      "text/html": [
       "<div>\n",
       "<style scoped>\n",
       "    .dataframe tbody tr th:only-of-type {\n",
       "        vertical-align: middle;\n",
       "    }\n",
       "\n",
       "    .dataframe tbody tr th {\n",
       "        vertical-align: top;\n",
       "    }\n",
       "\n",
       "    .dataframe thead th {\n",
       "        text-align: right;\n",
       "    }\n",
       "</style>\n",
       "<table border=\"1\" class=\"dataframe\">\n",
       "  <thead>\n",
       "    <tr style=\"text-align: right;\">\n",
       "      <th></th>\n",
       "      <th>Captions</th>\n",
       "      <th>ImagePath</th>\n",
       "    </tr>\n",
       "    <tr>\n",
       "      <th>ID</th>\n",
       "      <th></th>\n",
       "      <th></th>\n",
       "    </tr>\n",
       "  </thead>\n",
       "  <tbody>\n",
       "    <tr>\n",
       "      <th>6734</th>\n",
       "      <td>[[9, 2, 17, 9, 1, 6, 14, 13, 18, 3, 41, 8, 11,...</td>\n",
       "      <td>./102flowers/image_06734.jpg</td>\n",
       "    </tr>\n",
       "    <tr>\n",
       "      <th>6736</th>\n",
       "      <td>[[4, 1, 5, 12, 2, 3, 11, 31, 28, 68, 106, 132,...</td>\n",
       "      <td>./102flowers/image_06736.jpg</td>\n",
       "    </tr>\n",
       "    <tr>\n",
       "      <th>6737</th>\n",
       "      <td>[[9, 2, 27, 4, 1, 6, 14, 7, 12, 19, 5427, 5427...</td>\n",
       "      <td>./102flowers/image_06737.jpg</td>\n",
       "    </tr>\n",
       "    <tr>\n",
       "      <th>6738</th>\n",
       "      <td>[[9, 1, 5, 8, 54, 16, 38, 7, 12, 116, 325, 3, ...</td>\n",
       "      <td>./102flowers/image_06738.jpg</td>\n",
       "    </tr>\n",
       "    <tr>\n",
       "      <th>6739</th>\n",
       "      <td>[[4, 12, 1, 5, 29, 11, 19, 7, 26, 70, 5427, 54...</td>\n",
       "      <td>./102flowers/image_06739.jpg</td>\n",
       "    </tr>\n",
       "    <tr>\n",
       "      <th>...</th>\n",
       "      <td>...</td>\n",
       "      <td>...</td>\n",
       "    </tr>\n",
       "    <tr>\n",
       "      <th>8043</th>\n",
       "      <td>[[4, 1, 5, 2, 10, 6, 20, 3, 11, 7, 79, 5427, 5...</td>\n",
       "      <td>./102flowers/image_08043.jpg</td>\n",
       "    </tr>\n",
       "    <tr>\n",
       "      <th>8044</th>\n",
       "      <td>[[8, 369, 403, 1, 7, 8, 71, 103, 3, 8, 21, 268...</td>\n",
       "      <td>./102flowers/image_08044.jpg</td>\n",
       "    </tr>\n",
       "    <tr>\n",
       "      <th>8045</th>\n",
       "      <td>[[4, 1, 15, 14, 3, 11, 13, 18, 7, 2, 10, 6, 10...</td>\n",
       "      <td>./102flowers/image_08045.jpg</td>\n",
       "    </tr>\n",
       "    <tr>\n",
       "      <th>8046</th>\n",
       "      <td>[[4, 1, 5, 2, 10, 6, 20, 7, 32, 79, 5427, 5427...</td>\n",
       "      <td>./102flowers/image_08046.jpg</td>\n",
       "    </tr>\n",
       "    <tr>\n",
       "      <th>8047</th>\n",
       "      <td>[[4, 1, 5, 2, 10, 6, 11, 7, 22, 103, 5427, 542...</td>\n",
       "      <td>./102flowers/image_08047.jpg</td>\n",
       "    </tr>\n",
       "  </tbody>\n",
       "</table>\n",
       "<p>7370 rows × 2 columns</p>\n",
       "</div>"
      ],
      "text/plain": [
       "                                               Captions  \\\n",
       "ID                                                        \n",
       "6734  [[9, 2, 17, 9, 1, 6, 14, 13, 18, 3, 41, 8, 11,...   \n",
       "6736  [[4, 1, 5, 12, 2, 3, 11, 31, 28, 68, 106, 132,...   \n",
       "6737  [[9, 2, 27, 4, 1, 6, 14, 7, 12, 19, 5427, 5427...   \n",
       "6738  [[9, 1, 5, 8, 54, 16, 38, 7, 12, 116, 325, 3, ...   \n",
       "6739  [[4, 12, 1, 5, 29, 11, 19, 7, 26, 70, 5427, 54...   \n",
       "...                                                 ...   \n",
       "8043  [[4, 1, 5, 2, 10, 6, 20, 3, 11, 7, 79, 5427, 5...   \n",
       "8044  [[8, 369, 403, 1, 7, 8, 71, 103, 3, 8, 21, 268...   \n",
       "8045  [[4, 1, 15, 14, 3, 11, 13, 18, 7, 2, 10, 6, 10...   \n",
       "8046  [[4, 1, 5, 2, 10, 6, 20, 7, 32, 79, 5427, 5427...   \n",
       "8047  [[4, 1, 5, 2, 10, 6, 11, 7, 22, 103, 5427, 542...   \n",
       "\n",
       "                         ImagePath  \n",
       "ID                                  \n",
       "6734  ./102flowers/image_06734.jpg  \n",
       "6736  ./102flowers/image_06736.jpg  \n",
       "6737  ./102flowers/image_06737.jpg  \n",
       "6738  ./102flowers/image_06738.jpg  \n",
       "6739  ./102flowers/image_06739.jpg  \n",
       "...                            ...  \n",
       "8043  ./102flowers/image_08043.jpg  \n",
       "8044  ./102flowers/image_08044.jpg  \n",
       "8045  ./102flowers/image_08045.jpg  \n",
       "8046  ./102flowers/image_08046.jpg  \n",
       "8047  ./102flowers/image_08047.jpg  \n",
       "\n",
       "[7370 rows x 2 columns]"
      ]
     },
     "execution_count": 13,
     "metadata": {},
     "output_type": "execute_result"
    }
   ],
   "source": [
    "df"
   ]
  },
  {
   "cell_type": "code",
   "execution_count": 14,
   "metadata": {},
   "outputs": [],
   "source": [
    "# by jvmh\n",
    "train_index = random.sample(range(len(df)), n_images_train)\n",
    "test_index = [i for i in range(len(df)) if i not in train_index]\n",
    "train_df = df.iloc[train_index]\n",
    "test_df = df.iloc[test_index]"
   ]
  },
  {
   "cell_type": "code",
   "execution_count": 15,
   "metadata": {},
   "outputs": [
    {
     "data": {
      "text/html": [
       "<div>\n",
       "<style scoped>\n",
       "    .dataframe tbody tr th:only-of-type {\n",
       "        vertical-align: middle;\n",
       "    }\n",
       "\n",
       "    .dataframe tbody tr th {\n",
       "        vertical-align: top;\n",
       "    }\n",
       "\n",
       "    .dataframe thead th {\n",
       "        text-align: right;\n",
       "    }\n",
       "</style>\n",
       "<table border=\"1\" class=\"dataframe\">\n",
       "  <thead>\n",
       "    <tr style=\"text-align: right;\">\n",
       "      <th></th>\n",
       "      <th>Captions</th>\n",
       "      <th>ImagePath</th>\n",
       "    </tr>\n",
       "    <tr>\n",
       "      <th>ID</th>\n",
       "      <th></th>\n",
       "      <th></th>\n",
       "    </tr>\n",
       "  </thead>\n",
       "  <tbody>\n",
       "    <tr>\n",
       "      <th>6265</th>\n",
       "      <td>[[4, 15, 8, 25, 1, 7, 11, 2, 3, 20, 19, 5427, ...</td>\n",
       "      <td>./102flowers/image_06265.jpg</td>\n",
       "    </tr>\n",
       "    <tr>\n",
       "      <th>7057</th>\n",
       "      <td>[[9, 2, 27, 4, 1, 6, 12, 7, 11, 19, 5427, 5427...</td>\n",
       "      <td>./102flowers/image_07057.jpg</td>\n",
       "    </tr>\n",
       "    <tr>\n",
       "      <th>8106</th>\n",
       "      <td>[[9, 1, 15, 133, 3, 5, 2, 10, 6, 78, 54, 92, 3...</td>\n",
       "      <td>./102flowers/image_08106.jpg</td>\n",
       "    </tr>\n",
       "  </tbody>\n",
       "</table>\n",
       "</div>"
      ],
      "text/plain": [
       "                                               Captions  \\\n",
       "ID                                                        \n",
       "6265  [[4, 15, 8, 25, 1, 7, 11, 2, 3, 20, 19, 5427, ...   \n",
       "7057  [[9, 2, 27, 4, 1, 6, 12, 7, 11, 19, 5427, 5427...   \n",
       "8106  [[9, 1, 15, 133, 3, 5, 2, 10, 6, 78, 54, 92, 3...   \n",
       "\n",
       "                         ImagePath  \n",
       "ID                                  \n",
       "6265  ./102flowers/image_06265.jpg  \n",
       "7057  ./102flowers/image_07057.jpg  \n",
       "8106  ./102flowers/image_08106.jpg  "
      ]
     },
     "execution_count": 15,
     "metadata": {},
     "output_type": "execute_result"
    }
   ],
   "source": [
    "train_df.head(3)"
   ]
  },
  {
   "cell_type": "code",
   "execution_count": 16,
   "metadata": {},
   "outputs": [],
   "source": [
    "# offered by organize, but most not used later.\n",
    "hparas = {\n",
    "    'MAX_SEQ_LENGTH': 20,                     # maximum sequence length\n",
    "    'EMBED_DIM': 256, #64*64,                         # word embedding dimension\n",
    "    'VOCAB_SIZE': len(word2Id_dict),          # size of dictionary of captions\n",
    "    'RNN_HIDDEN_SIZE': 128,                   # number of RNN neurons\n",
    "    'Z_DIM': 512,                             # random noise z dimension\n",
    "    'DENSE_DIM': 128,                         # number of neurons in dense layer\n",
    "    'IMAGE_SIZE': [64, 64, 3],                # render image size\n",
    "    'BATCH_SIZE': 64,\n",
    "    'LR': 2e-4,\n",
    "    'LR_DECAY': 0.5,\n",
    "    'BETA_1': 0.5,\n",
    "    'N_EPOCH': 600,\n",
    "    'N_SAMPLE': n_images_train,               # size of training data\n",
    "    'CHECKPOINTS_DIR': './checkpoints/demo',  # checkpoint path\n",
    "    'PRINT_FREQ': 25                          # printing frequency of loss\n",
    "}"
   ]
  },
  {
   "cell_type": "code",
   "execution_count": 17,
   "metadata": {},
   "outputs": [],
   "source": [
    "# reference: kaggle organizer instruction\n",
    "# changed by jvmh\n",
    "\n",
    "IMAGE_HEIGHT = 64\n",
    "IMAGE_WIDTH = 64\n",
    "IMAGE_CHANNEL = 3\n",
    "\n",
    "def training_data_generator(image_path):\n",
    "    # load in the image according to image path\n",
    "    img = tf.io.read_file(image_path)\n",
    "    img = tf.image.decode_image(img, channels=3)\n",
    "    img = tf.image.convert_image_dtype(img, tf.float32)\n",
    "    img.set_shape([None, None, 3])\n",
    "    short_side = tf.minimum(tf.shape(img)[0], tf.shape(img)[1])\n",
    "    img = tf.image.resize_with_crop_or_pad(img, short_side, short_side)\n",
    "    img = tf.image.resize(img, size=[int(IMAGE_HEIGHT * 1.2), int(IMAGE_WIDTH * 1.2)])\n",
    "    img = tf.image.random_flip_left_right(img)\n",
    "    img = tf.image.random_crop(img, [IMAGE_HEIGHT, IMAGE_WIDTH, IMAGE_CHANNEL])\n",
    "    img.set_shape([IMAGE_HEIGHT, IMAGE_WIDTH, IMAGE_CHANNEL])\n",
    "\n",
    "    return img\n",
    "\n",
    "def dataset_generator(df, batch_size, data_generator):\n",
    "    \"\"\"\n",
    "    load the training data into two NumPy arrays\n",
    "    \"\"\"\n",
    "    # each image has 1 to 10 corresponding captions\n",
    "    # we choose one of them randomly for training\n",
    "    captions = df['Captions'].values\n",
    "    caption = []\n",
    "    for i in range(len(captions)):\n",
    "        caption.append(random.choice(captions[i]))\n",
    "    caption = np.asarray(caption)\n",
    "    caption = caption.astype(np.int)\n",
    "    \n",
    "    image_path = df['ImagePath'].values\n",
    "    images = [data_generator(i) for i in image_path]\n",
    "    dataset = tf.data.Dataset.from_tensor_slices((images, caption))\n",
    "    dataset = dataset.shuffle(len(caption)).batch(batch_size, drop_remainder=True)\n",
    "    dataset = dataset.prefetch(buffer_size=tf.data.experimental.AUTOTUNE)\n",
    "\n",
    "    return dataset"
   ]
  },
  {
   "cell_type": "code",
   "execution_count": 18,
   "metadata": {},
   "outputs": [],
   "source": [
    "train_dataset = dataset_generator(train_df, hparas['BATCH_SIZE'], training_data_generator)"
   ]
  },
  {
   "cell_type": "markdown",
   "metadata": {},
   "source": [
    "## TextEncoder"
   ]
  },
  {
   "cell_type": "code",
   "execution_count": 19,
   "metadata": {},
   "outputs": [],
   "source": [
    "# designed and developed by jvmh\n",
    "class TextEncoder(tf.keras.Model):\n",
    "    \"\"\"\n",
    "    Embed text (words) into 100 dimension\n",
    "    Use pretrained work vector: gensim.downloader.load('glove-wiki-gigaword-100')\n",
    "    Input: text of lengh 20\n",
    "    Output: a 100D vector\n",
    "    \"\"\"\n",
    "    def __init__(self, hparas):\n",
    "        super(TextEncoder, self).__init__()\n",
    "        self.hparas = hparas\n",
    "        self.embedding = layers.Embedding(\n",
    "            self.hparas['VOCAB_SIZE'],\n",
    "            100,\n",
    "            embeddings_initializer=tf.keras.initializers.Constant(emb_weight_mat)\n",
    "        )\n",
    "    \n",
    "    def call(self, text):\n",
    "        x = self.embedding(text)\n",
    "        output = tf.reduce_mean(x, axis=1)\n",
    "        return output"
   ]
  },
  {
   "cell_type": "markdown",
   "metadata": {},
   "source": [
    "## Generator"
   ]
  },
  {
   "cell_type": "code",
   "execution_count": 20,
   "metadata": {},
   "outputs": [],
   "source": [
    "# designed and developed by jvmh\n",
    "class Generator(tf.keras.Model):\n",
    "    \"\"\"\n",
    "    Generate fake images\n",
    "    input: embeded text, noise\n",
    "    output: fake images with size 64*64*3\n",
    "    \"\"\"\n",
    "    def __init__(self, hparas):\n",
    "        super(Generator, self).__init__()\n",
    "        self.hparas = hparas\n",
    "        self.bn0a = BatchNormalization()\n",
    "        self.d0a = Dense(1024)\n",
    "        self.bn0b = BatchNormalization()\n",
    "        self.relu0 = LeakyReLU()\n",
    "        self.d0b = Dense(4 * 4 * 512)\n",
    "        \n",
    "        self.bn1 = BatchNormalization()\n",
    "        self.relu1 = LeakyReLU()\n",
    "        self.conv1 = Conv2DTranspose(512, 3, strides=1, padding='same')\n",
    "        \n",
    "        self.bn2a = BatchNormalization()\n",
    "        self.relu2a = LeakyReLU()\n",
    "        self.conv2a = Conv2DTranspose(256, 3, strides=2, padding='same')\n",
    "        self.bn2b = BatchNormalization()\n",
    "        self.relu2b = LeakyReLU()\n",
    "        self.conv2b = Conv2DTranspose(256, 3, strides=1, padding='same')\n",
    "        self.conv2c = Conv2D(256, 1, strides=1, padding='same')\n",
    "        self.up2c = UpSampling2D((2, 2))\n",
    "        \n",
    "        self.bn3a = BatchNormalization()\n",
    "        self.relu3a = LeakyReLU()\n",
    "        self.conv3a = Conv2DTranspose(128, 3, strides=2, padding='same')\n",
    "        self.bn3b = BatchNormalization()\n",
    "        self.relu3b = LeakyReLU()\n",
    "        self.conv3b = Conv2DTranspose(128, 3, strides=1, padding='same')\n",
    "        self.conv3c = Conv2D(128, 1, strides=1, padding='same')\n",
    "        self.up3c = UpSampling2D((2, 2))\n",
    "        \n",
    "        self.bn4a = BatchNormalization()\n",
    "        self.relu4a = LeakyReLU()\n",
    "        self.conv4a = Conv2DTranspose(64, 3, strides=2, padding='same')\n",
    "        self.bn4b = BatchNormalization()\n",
    "        self.relu4b = LeakyReLU()\n",
    "        self.conv4b = Conv2DTranspose(64, 3, strides=1, padding='same')\n",
    "        self.conv4c = Conv2D(64, 1, strides=1, padding='same')\n",
    "        self.up4c = UpSampling2D((2, 2))\n",
    "        \n",
    "        self.bn5a = BatchNormalization()\n",
    "        self.relu5a = LeakyReLU()\n",
    "        self.conv5a = Conv2DTranspose(16, 3, strides=2, padding='same')\n",
    "        self.bn5b = BatchNormalization()\n",
    "        self.relu5b = LeakyReLU()\n",
    "        self.conv5b = Conv2DTranspose(3, 3, strides=1, padding='same')\n",
    "        self.flag = True\n",
    "        \n",
    "    def call(self, text, noise_z):\n",
    "        # generation is a process of upsampling!\n",
    "        # an inverse process to dicriminator!\n",
    "        if self.flag:\n",
    "            print(\"text shape\", text.shape)\n",
    "            self.flag = False\n",
    "        \n",
    "        x = tf.concat([noise_z, text], axis=-1) # column\n",
    "        x = self.bn0a(x)\n",
    "        x = self.d0a(x)\n",
    "        x = self.bn0b(x)\n",
    "        x = self.relu0(x)\n",
    "        x = self.d0b(x)\n",
    "        x = tf.reshape(x, [-1, 4, 4, 512])\n",
    "        \n",
    "        x = self.bn1(x)\n",
    "        x = self.relu1(x)\n",
    "        x = self.conv1(x)\n",
    "        \n",
    "        r = self.conv2c(x)\n",
    "        r = self.up2c(r)\n",
    "        x = self.bn2a(x)\n",
    "        x = self.relu2a(x)\n",
    "        x = self.conv2a(x)\n",
    "        x = self.bn2b(x)\n",
    "        x = self.relu2b(x)\n",
    "        x = self.conv2b(x)\n",
    "        x = x + r\n",
    "        \n",
    "        r = self.conv3c(x)\n",
    "        r = self.up3c(r)\n",
    "        x = self.bn3a(x)\n",
    "        x = self.relu3a(x)\n",
    "        x = self.conv3a(x)\n",
    "        x = self.bn3b(x)\n",
    "        x = self.relu3b(x)\n",
    "        x = self.conv3b(x)\n",
    "        x = x + r\n",
    "        \n",
    "        r = self.conv4c(x)\n",
    "        r = self.up4c(r)\n",
    "        x = self.bn4a(x)\n",
    "        x = self.relu4a(x)\n",
    "        x = self.conv4a(x)\n",
    "        x = self.bn4b(x)\n",
    "        x = self.relu4b(x)\n",
    "        x = self.conv4b(x)\n",
    "        x = x + r\n",
    "        \n",
    "        x = self.bn5a(x)\n",
    "        x = self.relu5a(x)\n",
    "        x = self.conv5a(x)\n",
    "        x = self.bn5b(x)\n",
    "        x = self.relu5b(x)\n",
    "        x = self.conv5b(x)\n",
    "        x = sigmoid(x) # assert: values are in [0, 1]\n",
    "        return x"
   ]
  },
  {
   "cell_type": "code",
   "execution_count": 22,
   "metadata": {},
   "outputs": [],
   "source": [
    "from tensorflow.keras import layers\n",
    "from tensorflow.keras import regularizers"
   ]
  },
  {
   "cell_type": "markdown",
   "metadata": {},
   "source": [
    "## Discriminator"
   ]
  },
  {
   "cell_type": "code",
   "execution_count": 23,
   "metadata": {},
   "outputs": [],
   "source": [
    "# designed and developed by jvmh\n",
    "class Discriminator(tf.keras.Model):\n",
    "    \"\"\"\n",
    "    Differentiate the real and fake image\n",
    "    input: image, embedded text\n",
    "    output: probability of being a real image (logits, not real probability)\n",
    "    \"\"\"\n",
    "    def __init__(self, hparas):\n",
    "        super(Discriminator, self).__init__()\n",
    "        self.hparas = hparas\n",
    "        self.d0 = Dense(128)\n",
    "        \n",
    "        self.relu1 = LeakyReLU()\n",
    "        self.conv1 = Conv2D(32, 3, strides=2, padding='same')\n",
    "        \n",
    "        self.bn2a = BatchNormalization()\n",
    "        self.relu2a = LeakyReLU()\n",
    "        self.conv2a = Conv2D(64, 3, strides=2, padding='same')\n",
    "        self.bn2b = BatchNormalization()\n",
    "        self.relu2b = LeakyReLU()\n",
    "        self.conv2b = Conv2D(64, 3, strides=1, padding='same')\n",
    "        self.conv2c = Conv2D(64, 3, strides=2, padding='same')\n",
    "        \n",
    "        self.bn3a = BatchNormalization()\n",
    "        self.relu3a = LeakyReLU()\n",
    "        self.conv3a = Conv2D(128, 3, strides=2, padding='same')\n",
    "        self.bn3b = BatchNormalization()\n",
    "        self.relu3b = LeakyReLU()\n",
    "        self.conv3b = Conv2D(128, 3, strides=1, padding='same')\n",
    "        self.conv3c = Conv2D(128, 3, strides=2, padding='same')\n",
    "        \n",
    "        self.conv4 = Conv2D(256, 8, strides=1, padding='same')\n",
    "        self.flatten = Flatten()\n",
    "        \n",
    "        self.d5 = Dense(256)\n",
    "        self.relu6 = LeakyReLU()\n",
    "        self.d6 = Dense(1)\n",
    "        \n",
    "    def call(self, x, z):\n",
    "        # extract abstract characteristics for 0-1 prediction\n",
    "        # 1: real image\n",
    "        # 0: fake image\n",
    "        x = self.relu1(x)\n",
    "        x = self.conv1(x)\n",
    "        \n",
    "        r = self.conv2c(x)\n",
    "        x = self.bn2a(x)\n",
    "        x = self.relu2a(x)\n",
    "        x = self.conv2a(x)\n",
    "        x = self.bn2b(x)\n",
    "        x = self.relu2b(x)\n",
    "        x = self.conv2b(x)\n",
    "        x = x + r\n",
    "        \n",
    "        r = self.conv3c(x)\n",
    "        x = self.bn3a(x)\n",
    "        x = self.relu3a(x)\n",
    "        x = self.conv3a(x)\n",
    "        x = self.bn3b(x)\n",
    "        x = self.relu3b(x)\n",
    "        x = self.conv3b(x)\n",
    "        x = x + r\n",
    "        \n",
    "        x = self.conv4(x)\n",
    "        x = self.flatten(x)\n",
    "        x = tf.concat([x, z], axis=-1)\n",
    "        \n",
    "        x = self.d5(x)\n",
    "        x = self.relu6(x)\n",
    "        x = self.d6(x)\n",
    "        \n",
    "        return x"
   ]
  },
  {
   "cell_type": "code",
   "execution_count": 25,
   "metadata": {},
   "outputs": [],
   "source": [
    "# cross_entropy = tf.keras.losses.SparseCategoricalCrossentropy(from_logits=False)"
   ]
  },
  {
   "cell_type": "markdown",
   "metadata": {},
   "source": [
    "## Define Loss & Acc"
   ]
  },
  {
   "cell_type": "code",
   "execution_count": 26,
   "metadata": {},
   "outputs": [],
   "source": [
    "cross_entropy = tf.keras.losses.BinaryCrossentropy(from_logits=True)"
   ]
  },
  {
   "cell_type": "code",
   "execution_count": 27,
   "metadata": {},
   "outputs": [],
   "source": [
    "# designed and developed by jvmh\n",
    "\n",
    "def discriminator_loss(real_logits, fake_logits):\n",
    "    L = len(real_logits)\n",
    "    # output value of real image should be 1\n",
    "    real_loss = cross_entropy(tf.ones(L), real_logits)\n",
    "    # output value of fake image should be 0\n",
    "    fake_loss = cross_entropy(tf.zeros(L), fake_logits)\n",
    "    total_loss =real_loss + fake_loss\n",
    "    return total_loss\n",
    "\n",
    "\n",
    "def discriminator_acc(real_logits, fake_logits):\n",
    "    acc = (real_logits >= 0.0).numpy().mean() + (fake_logits < 0.0).numpy().mean() # hope to be 0.5\n",
    "    return acc / 2.0\n",
    " \n",
    "    \n",
    "def generator_loss(fake_logits):\n",
    "    # for discriminator, output value of fake image should be 0\n",
    "    # but generator expects to confuse the discriminator\n",
    "    L = len(fake_logits)\n",
    "    return cross_entropy(tf.ones(L), fake_logits)\n",
    "\n",
    "def generator_acc(fake_logits):\n",
    "    return (fake_logits >= 0.0).numpy().mean()\n",
    " "
   ]
  },
  {
   "cell_type": "code",
   "execution_count": 28,
   "metadata": {},
   "outputs": [],
   "source": [
    "# def decayed_learning_rate(step):\n",
    "#     return 1e-4 * 0.99**(step / 640.0)\n",
    "# decayed_learning_rate(600*100)"
   ]
  },
  {
   "cell_type": "code",
   "execution_count": 29,
   "metadata": {},
   "outputs": [
    {
     "data": {
      "text/plain": [
       "114"
      ]
     },
     "execution_count": 29,
     "metadata": {},
     "output_type": "execute_result"
    }
   ],
   "source": [
    "int(hparas['N_SAMPLE'] / hparas['BATCH_SIZE'])"
   ]
  },
  {
   "cell_type": "markdown",
   "metadata": {},
   "source": [
    "## Adam Optimizer"
   ]
  },
  {
   "cell_type": "code",
   "execution_count": 30,
   "metadata": {},
   "outputs": [],
   "source": [
    "# designed and developed by jvmh\n",
    "lr_schedule = tf.keras.optimizers.schedules.ExponentialDecay(\n",
    "    2e-4,\n",
    "    decay_steps=100,\n",
    "    decay_rate=0.96,\n",
    "    staircase=True)"
   ]
  },
  {
   "cell_type": "code",
   "execution_count": 31,
   "metadata": {},
   "outputs": [],
   "source": [
    "\n",
    "# Use Adam for training generator and discriminator\n",
    "generator_optimizer = tf.keras.optimizers.Adam(lr_schedule, beta_1=0.5)\n",
    "discriminator_optimizer = tf.keras.optimizers.Adam(lr_schedule, beta_1=0.5)\n",
    "\n",
    "text_encoder = TextEncoder(hparas)\n",
    "generator = Generator(hparas)\n",
    "discriminator = Discriminator(hparas)"
   ]
  },
  {
   "cell_type": "code",
   "execution_count": 32,
   "metadata": {},
   "outputs": [],
   "source": [
    "# reference: offered by organizer\n",
    "checkpoint_dir = hparas['CHECKPOINTS_DIR']\n",
    "checkpoint_prefix = os.path.join(checkpoint_dir, \"ckpt\")\n",
    "checkpoint = tf.train.Checkpoint(generator_optimizer=generator_optimizer,\n",
    "                                 discriminator_optimizer=discriminator_optimizer,\n",
    "                                 text_encoder=text_encoder,\n",
    "                                 generator=generator,\n",
    "                                 discriminator=discriminator)"
   ]
  },
  {
   "cell_type": "markdown",
   "metadata": {},
   "source": [
    "## Training Preparations"
   ]
  },
  {
   "cell_type": "code",
   "execution_count": 33,
   "metadata": {},
   "outputs": [],
   "source": [
    "# most by jvmh\n",
    "\n",
    "def train_step(real_image, caption, epoch):\n",
    "    \n",
    "    noise = tf.random.normal(shape=[hparas['BATCH_SIZE'], hparas['Z_DIM']], mean=0.0, stddev=1.0)\n",
    "    \n",
    "    with tf.GradientTape() as gen_tape, tf.GradientTape() as disc_tape:\n",
    "        text_embed = text_encoder(caption)\n",
    "        fake_image = generator(text_embed, noise)\n",
    "        real_output = discriminator(real_image, text_embed)\n",
    "        fake_output = discriminator(fake_image, text_embed)\n",
    "       \n",
    "        g_loss = generator_loss(fake_output)\n",
    "        d_loss = discriminator_loss(real_output, fake_output)\n",
    "\n",
    "    grad_g = gen_tape.gradient(g_loss, generator.trainable_variables)\n",
    "    grad_d = disc_tape.gradient(d_loss, discriminator.trainable_variables)\n",
    "    \n",
    "    generator_optimizer.apply_gradients(zip(grad_g, generator.trainable_variables))\n",
    "    discriminator_optimizer.apply_gradients(zip(grad_d, discriminator.trainable_variables))\n",
    "    \n",
    "    g_acc = generator_acc(fake_output)\n",
    "    d_acc = discriminator_acc(real_output, fake_output)\n",
    "    \n",
    "    return g_loss,  g_acc, d_loss, d_acc"
   ]
  },
  {
   "cell_type": "code",
   "execution_count": 34,
   "metadata": {},
   "outputs": [],
   "source": [
    "def test_step(caption, noise):\n",
    "    text_embed= text_encoder(caption)\n",
    "    print(\"test encoder\")\n",
    "    fake_image = generator(text_embed, noise)\n",
    "    return fake_image"
   ]
  },
  {
   "cell_type": "code",
   "execution_count": 35,
   "metadata": {},
   "outputs": [],
   "source": [
    "import os\n",
    "if not os.path.exists(\"./samples/demo\"):\n",
    "    os.makedirs(\"./samples/demo\")"
   ]
  },
  {
   "cell_type": "code",
   "execution_count": 36,
   "metadata": {},
   "outputs": [],
   "source": [
    "# reference: offered by kaggle organizer\n",
    "# changed by jvmh\n",
    "def merge(images, size):\n",
    "    h, w = images.shape[1], images.shape[2]\n",
    "    img = np.zeros((h * size[0], w * size[1], 3))\n",
    "    for idx, image in enumerate(images):\n",
    "        i = idx % size[1]\n",
    "        j = idx // size[1]\n",
    "        img[j*h:j*h+h, i*w:i*w+w, :] = image\n",
    "    return img\n",
    "\n",
    "def imsave(images, size, path):\n",
    "    return plt.imsave(path, merge(images, size))\n",
    "\n",
    "def save_images(images, size, image_path):\n",
    "    return imsave(images, size, image_path)\n",
    "\n",
    "def sample_generator(caption, batch_size):\n",
    "    caption = np.asarray(caption)\n",
    "    caption = caption.astype(np.int)\n",
    "    dataset = tf.data.Dataset.from_tensor_slices(caption)\n",
    "    dataset = dataset.batch(batch_size)\n",
    "    return dataset"
   ]
  },
  {
   "cell_type": "code",
   "execution_count": 37,
   "metadata": {},
   "outputs": [],
   "source": [
    "import math"
   ]
  },
  {
   "cell_type": "code",
   "execution_count": 38,
   "metadata": {},
   "outputs": [],
   "source": [
    "# this sample is offered by kaggle organizer\n",
    "# changed by jvmh\n",
    "sample_sentence = [\"the flower shown has red anther pink pistil and bright yellow petals.\",\n",
    "                   \"the flower shown has yellow anther red pistil and bright red petals.\",\n",
    "                   \"the petals on this flower are white with a yellow center\",\n",
    "                   \"this flower has a lot of small round pink petals.\",\n",
    "                   \"this flower is orange in color, and has petals that are ruffled and rounded.\",\n",
    "                   \"the flower has yellow petals and the center of it is brown.\",\n",
    "                   \"this flower has petals that are blue and white.\",\n",
    "                   \"these white flowers have petals that start off white in color and end in a white towards the tips.\"] * 8\n",
    "sample_seed = np.random.normal(loc=0.0, scale=1.0, size=(len(sample_sentence), hparas['Z_DIM'])).astype(np.float32)\n",
    "for i, sent in enumerate(sample_sentence):\n",
    "    sample_sentence[i] = sent2IdList(sent)\n",
    "sample_sentence = sample_generator(sample_sentence, len(sample_sentence))"
   ]
  },
  {
   "cell_type": "code",
   "execution_count": 39,
   "metadata": {},
   "outputs": [],
   "source": [
    "# for caption in sample_sentence:\n",
    "#     #print(caption.shape)\n",
    "#     fake_image = test_step(caption, sample_seed)#, text_encoder.initialize_hidden_state())\n",
    " \n",
    "#     save_images(fake_image, [8, 8], 'samples/demo/test.jpg')\n",
    "#     plt.imshow(plt.imread('samples/demo/test.jpg'))\n",
    "#     plt.axis('off')\n",
    "#     plt.show()"
   ]
  },
  {
   "cell_type": "code",
   "execution_count": 40,
   "metadata": {},
   "outputs": [],
   "source": [
    "# hparas['PRINT_FREQ']=2\n",
    "# hparas['N_EPOCH']=600"
   ]
  },
  {
   "cell_type": "code",
   "execution_count": 41,
   "metadata": {},
   "outputs": [
    {
     "data": {
      "text/plain": [
       "114"
      ]
     },
     "execution_count": 41,
     "metadata": {},
     "output_type": "execute_result"
    }
   ],
   "source": [
    "int(hparas['N_SAMPLE'] / hparas['BATCH_SIZE'])"
   ]
  },
  {
   "cell_type": "code",
   "execution_count": 42,
   "metadata": {},
   "outputs": [],
   "source": [
    "# trained 200 epochs, 50 minutes\n",
    "# when training, I saved generated flowers once every several epochs\n",
    "# therefore, there is no need for a separate testing step\n",
    "\n",
    "from tqdm import tqdm\n",
    "def train(dataset, epochs, d_loss_list, d_acc_list, g_loss_list, g_acc_list):\n",
    "\n",
    "    steps_per_epoch = int(hparas['N_SAMPLE'] / hparas['BATCH_SIZE'])\n",
    "    for epoch in tqdm(range(hparas['N_EPOCH'])):\n",
    "        g_total_loss = 0\n",
    "        d_total_loss = 0\n",
    "        \n",
    "        start = time.time()\n",
    "        for image, caption in dataset:\n",
    "            g_loss, g_acc, d_loss, d_acc = train_step(image, caption, epoch)\n",
    "            g_total_loss += g_loss\n",
    "            d_total_loss += d_loss\n",
    "            g_loss_list.append(g_loss)\n",
    "            g_acc_list.append(g_acc)\n",
    "            d_loss_list.append(d_loss)\n",
    "            d_acc_list.append(d_acc)\n",
    "        \n",
    "        if not (epoch + 1) % hparas['PRINT_FREQ'] == 0:\n",
    "            continue\n",
    "        \n",
    "# Below might be useful when you are tuning hyperparameters.\n",
    "\n",
    "#         print(\"-\"*60)\n",
    "#         time_tuple = time.localtime()\n",
    "#         time_string = time.strftime(\"%m/%d/%Y, %H:%M:%S\", time_tuple)\n",
    "#         print(\"Epoch {}, gen_loss: {:.4f}, disc_loss: {:.4f}\".format(epoch+1,\n",
    "#                                                                      g_total_loss/steps_per_epoch,\n",
    "#                                                                      d_total_loss/steps_per_epoch))\n",
    "#         print(\"Epoch {}, gen_acc: {:.4f}, disc_acc: {:.4f}\".format(epoch+1,\n",
    "#                                                                      np.mean(g_acc_list[-steps_per_epoch:]),\n",
    "#                                                                      np.mean(d_acc_list[-steps_per_epoch:])))        \n",
    "#         print('Time for epoch {} is {:.4f} sec'.format(epoch+1, time.time()-start))\n",
    "#         fake_image=None\n",
    "        for caption in sample_sentence:\n",
    "            fake_image = test_step(caption, sample_seed)\n",
    "       \n",
    "        save_images(fake_image, [8, 8], 'samples/demo/train_{:03d}.jpg'.format(epoch+1))\n",
    "        plt.figure(figsize=(8, 8))\n",
    "        plt.imshow(plt.imread('samples/demo/train_{:03d}.jpg'.format(epoch+1)))\n",
    "        plt.axis('off')\n",
    "        plt.show()\n",
    "\n",
    "    return d_loss_list, d_acc_list, g_loss_list, g_acc_list"
   ]
  },
  {
   "cell_type": "markdown",
   "metadata": {},
   "source": [
    "## Training & Results\n",
    "\n",
    "images generated are in the folder \"images\""
   ]
  },
  {
   "cell_type": "code",
   "execution_count": 45,
   "metadata": {},
   "outputs": [
    {
     "data": {
      "text/plain": [
       "Text(0.5, 0, 'epoch')"
      ]
     },
     "execution_count": 45,
     "metadata": {},
     "output_type": "execute_result"
    },
    {
     "data": {
      "image/png": "[encoded data removed]",
      "text/plain": [
       "<Figure size 1152x720 with 4 Axes>"
      ]
     },
     "metadata": {
      "needs_background": "light"
     },
     "output_type": "display_data"
    }
   ],
   "source": [
    "# by jvmh\n",
    "\n",
    "d_loss_list, d_acc_list, g_loss_list, g_acc_list = [], [], [], []\n",
    "d_loss_list, d_acc_list, g_loss_list, g_acc_list = train(train_dataset, hparas['N_EPOCH'], d_loss_list, d_acc_list, g_loss_list, g_acc_list)\n",
    "\n",
    "def batch_to_epoch(lst, n = int(hparas['N_SAMPLE'] / hparas['BATCH_SIZE'])):\n",
    "    res = []\n",
    "    for i in range(len(lst) // n):\n",
    "        res.append(np.mean(lst[i * n: (i + 1) * n]))\n",
    "    return res\n",
    "\n",
    "d_loss_epoch, d_acc_epoch, g_loss_epoch, g_acc_epoch = \\\n",
    "batch_to_epoch(d_loss_list), batch_to_epoch(d_acc_list), batch_to_epoch(g_loss_list), batch_to_epoch(g_acc_list)\n",
    "\n",
    "\n",
    "fig, axes = plt.subplots(2,2, figsize=(16, 10))\n",
    " \n",
    "axes[0][0].plot(range(len(d_loss_epoch)), d_loss_epoch)\n",
    "axes[0][0].set_title('Discriminator Loss')\n",
    "axes[0][0].set_xlabel('epoch')\n",
    "\n",
    "axes[1][0].plot(range(len(g_loss_epoch)), g_loss_epoch)\n",
    "axes[1][0].set_title('Generator Loss')\n",
    "axes[1][0].set_xlabel('epoch')\n",
    "\n",
    "\n",
    "axes[0][1].plot(range(len(d_acc_epoch)), d_acc_epoch)\n",
    "axes[0][1].set_title('Discriminator Accuracy')\n",
    "axes[0][1].set_xlabel('epoch')\n",
    "\n",
    "axes[1][1].plot(range(len(g_acc_epoch)), g_acc_epoch)\n",
    "axes[1][1].set_title('Generator Accuracy')\n",
    "axes[1][1].set_xlabel('epoch')"
   ]
  },
  {
   "cell_type": "code",
   "execution_count": 52,
   "metadata": {},
   "outputs": [],
   "source": [
    "fig.savefig('plot.png')"
   ]
  },
  {
   "cell_type": "code",
   "execution_count": null,
   "metadata": {},
   "outputs": [],
   "source": []
  }
 ],
 "metadata": {
  "kernelspec": {
   "display_name": "Python 3",
   "language": "python",
   "name": "python3"
  },
  "language_info": {
   "codemirror_mode": {
    "name": "ipython",
    "version": 3
   },
   "file_extension": ".py",
   "mimetype": "text/x-python",
   "name": "python",
   "nbconvert_exporter": "python",
   "pygments_lexer": "ipython3",
   "version": "3.7.7"
  },
  "toc": {
   "base_numbering": 1,
   "nav_menu": {},
   "number_sections": true,
   "sideBar": true,
   "skip_h1_title": false,
   "title_cell": "Table of Contents",
   "title_sidebar": "Contents",
   "toc_cell": false,
   "toc_position": {
    "height": "calc(100% - 180px)",
    "left": "10px",
    "top": "150px",
    "width": "249.594px"
   },
   "toc_section_display": true,
   "toc_window_display": true
  }
 },
 "nbformat": 4,
 "nbformat_minor": 4
}
